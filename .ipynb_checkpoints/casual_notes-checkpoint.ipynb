{
 "cells": [
  {
   "cell_type": "markdown",
   "id": "f89afde8",
   "metadata": {},
   "source": [
    "# Luźne notatki, pojęcia, zadania, łamigłówki"
   ]
  },
  {
   "cell_type": "markdown",
   "id": "44a49cb5",
   "metadata": {},
   "source": [
    "### <span style=\"color:red\"> Funkcja wyższego rzędu </span> (higher-order function) - przyjmuje jako argumenty lub zwraca w wyniku inne funkcje"
   ]
  },
  {
   "cell_type": "code",
   "execution_count": 3,
   "id": "a28082fe",
   "metadata": {},
   "outputs": [
    {
     "name": "stdout",
     "output_type": "stream",
     "text": [
      "15\n",
      "20\n"
     ]
    }
   ],
   "source": [
    "# jako argument \n",
    "def math_operation(operation, num1, num2):\n",
    "    return operation(num1, num2)\n",
    "\n",
    "def sum_n(num1, num2):\n",
    "    return num1 + num2 \n",
    "\n",
    "def multi_n(num1, num2):\n",
    "    return num1 * num2\n",
    "\n",
    "print(math_operation(sum_n, 5, 10))\n",
    "print(math_operation(multi_n, 2, 10))"
   ]
  },
  {
   "cell_type": "code",
   "execution_count": 23,
   "id": "dd6401e6",
   "metadata": {},
   "outputs": [
    {
     "data": {
      "text/plain": [
       "5.0"
      ]
     },
     "execution_count": 23,
     "metadata": {},
     "output_type": "execute_result"
    }
   ],
   "source": [
    "# zwracanie funkcji\n",
    "def division_num(diviBy):\n",
    "    def result(num_base):\n",
    "        if(diviBy != 0):\n",
    "            return num_base / diviBy\n",
    "        else:\n",
    "            return \"ZeroDivisionError\"\n",
    "    return result \n",
    "    \n",
    "division_by_ten = division_num(10)\n",
    "division_by_ten(50)"
   ]
  },
  {
   "cell_type": "code",
   "execution_count": 1,
   "id": "7e9d46fc",
   "metadata": {},
   "outputs": [
    {
     "name": "stdout",
     "output_type": "stream",
     "text": [
      "16\n",
      "81\n",
      "256\n"
     ]
    }
   ],
   "source": [
    "def power_of(base):\n",
    "    def power(exponent):\n",
    "        return base ** exponent\n",
    "    return power\n",
    "\n",
    "power_of_two = power_of(2)\n",
    "power_of_three = power_of(3)\n",
    "power_of_four = power_of(4)\n",
    " \n",
    "print(power_of_two(4))\n",
    "print(power_of_three(4))\n",
    "print(power_of_four(4))"
   ]
  },
  {
   "cell_type": "markdown",
   "id": "596ac389",
   "metadata": {},
   "source": [
    "#### Zagnieżdżona funkcja <span style=\"color:blue\">power</span> nie posiada parametru base zdefiniowanego przez funkcję nadrzędną. Jednak w jakiś sposób ma do tego argumentu dostęp. Funkcja <span style=\"color:blue\">power</span> pamięta wartość argumentu przekazanego do funkcji nadrzędnej. Odpowiada za to tzw. <span style=\"color:blue\">domknięcie (ang. lexical closures)</span>. W chwili gdy funkcje <span style=\"color:blue\">power_of…</span> były deklarowane, domknięcie zapamietało <span style=\"color:blue\">środowisko leksykalne</span> w jakim były one tworzone."
   ]
  },
  {
   "cell_type": "markdown",
   "id": "4866e195",
   "metadata": {},
   "source": [
    "### <span style=\"color:red\"> Callable </span>- obiekt, który zachowuje się jak funkcja. Obiekty funkcyjne często nazywa się funktorami. \n",
    "#### W języku Python wszystkie funkcje są obiektami, ale na odwrót już nie. Jednak Python oferuje nam możliwość traktowania obiektów jak funkcję. Aby instancja klasy stała się takim obiektem wystarczy stworzyć metodę <span style=\"color:red\"> \\_\\_call\\_\\_ </span>."
   ]
  },
  {
   "cell_type": "code",
   "execution_count": 4,
   "id": "ef351977",
   "metadata": {},
   "outputs": [
    {
     "name": "stdout",
     "output_type": "stream",
     "text": [
      "20\n",
      "250\n"
     ]
    }
   ],
   "source": [
    "class Multiplication():\n",
    "    \n",
    "    def __init__(self, base_number):\n",
    "        self.base_number = base_number\n",
    "    \n",
    "    def __call__(self, multiBy):\n",
    "        return self.base_number * multiBy\n",
    "    \n",
    "object_1 = Multiplication(2)\n",
    "object_2 = Multiplication(5)\n",
    "\n",
    "print(object_1(10))\n",
    "print(object_2(50))"
   ]
  },
  {
   "cell_type": "markdown",
   "id": "3f8c04c5",
   "metadata": {},
   "source": [
    "### <span style=\"color:red\"> Lambda (funkcje anonimowe) </span>- jest jednolinijkową, anonimową funkcją. Jest to funkcja która nie ma nazwy. Poprzez użycie słowa kluczowego 'lambda’ informujemy Python, że właśnie taką anonimową funkcję chcemy utworzyć."
   ]
  },
  {
   "cell_type": "code",
   "execution_count": 11,
   "id": "9361e62b",
   "metadata": {},
   "outputs": [
    {
     "name": "stdout",
     "output_type": "stream",
     "text": [
      "Sposób 1:\n",
      "30\n",
      "Sposób 2:\n",
      "15\n"
     ]
    }
   ],
   "source": [
    "# sposób 1 możemy przypisać lambdę do zmiennej, a następnie ją wykonać\n",
    "add_ten = lambda x: x + 10\n",
    "print(\"Sposób 1:\")\n",
    "print(add_ten(20))\n",
    "\n",
    "# sposób 2 możemy wykonać lambdę odrazu\n",
    "print(\"Sposób 2:\")\n",
    "print((lambda x,y: x + yn)(5,10))"
   ]
  },
  {
   "cell_type": "markdown",
   "id": "be4329de",
   "metadata": {},
   "source": [
    "#### funkcja anonimowa lambda, może być funkcją wyższego rzędu"
   ]
  },
  {
   "cell_type": "code",
   "execution_count": 13,
   "id": "9eb49322",
   "metadata": {},
   "outputs": [
    {
     "name": "stdout",
     "output_type": "stream",
     "text": [
      "18\n"
     ]
    }
   ],
   "source": [
    "higher_order_lambda = lambda f,x: f(x)\n",
    "print(higher_order_lambda(add_ten, 8))"
   ]
  },
  {
   "cell_type": "markdown",
   "id": "df52ac60",
   "metadata": {},
   "source": [
    "### <span style=\"color:red\"> Funkcje częsciowo aplikowane (partially applied functions)</span> - są to funkcje do których część parametrów została już zaaplikowana"
   ]
  },
  {
   "cell_type": "code",
   "execution_count": 27,
   "id": "6137b2a1",
   "metadata": {},
   "outputs": [
    {
     "name": "stdout",
     "output_type": "stream",
     "text": [
      "60\n",
      "60\n"
     ]
    }
   ],
   "source": [
    "from functools import partial\n",
    "\n",
    "fun_1 = lambda x,y,z: x + y + z\n",
    "\n",
    "partially_applied_function = partial(\n",
    "    fun_1, x = 10\n",
    ")\n",
    "\n",
    "# musimy jawnie przypisać wartości do y i z, gdyby podać wartości w ten spsób --> partially_applied_function(20, 30)\n",
    "# dostalibyśmy błąd ze względu, że parametr x jest już zainicjalizowany \n",
    "print(partially_applied_function(y=20, z=30))\n",
    "\n",
    "# ewentualnie, można zmienić kolejność parametrów funkcji, wtedy nie nadamy wartości już zainicjalizowanej zmiennej x\n",
    "\n",
    "fun_2 = lambda y,z,x: y + z + x \n",
    "\n",
    "partially_applied_function_2 = partial(\n",
    "    fun_2, x = 10\n",
    ")\n",
    "\n",
    "print(partially_applied_function_2(20,30))"
   ]
  },
  {
   "cell_type": "markdown",
   "id": "5f1b66ab",
   "metadata": {},
   "source": [
    "### <span style=\"color:red\"> map() - wbudowana funkcja wyższego rzędu </span> - map daje nam możliwość wykonania zadanej funkcji dla każdego elementu kolekcji"
   ]
  },
  {
   "cell_type": "code",
   "execution_count": 17,
   "id": "f8ba6fa2",
   "metadata": {},
   "outputs": [
    {
     "name": "stdout",
     "output_type": "stream",
     "text": [
      "2\n",
      "4\n",
      "6\n",
      "8\n",
      "10\n"
     ]
    }
   ],
   "source": [
    "def n_plus_n(n):\n",
    "    return n+n\n",
    "\n",
    "x = [i+1 for i in range(5)]\n",
    "\n",
    "x = map(n_plus_n, x)\n",
    "for i in x:\n",
    "    print(i)\n",
    "\n",
    "# ponowne użycie nie zwróci nam wyników \n",
    "for i in x:\n",
    "    print(i)"
   ]
  },
  {
   "cell_type": "code",
   "execution_count": 18,
   "id": "f2f523f7",
   "metadata": {},
   "outputs": [
    {
     "name": "stdout",
     "output_type": "stream",
     "text": [
      "[11, 12, 13, 14, 15]\n"
     ]
    }
   ],
   "source": [
    "number_list = [1,2,3,4,5]\n",
    "x = list(map(lambda x: x + 10, number_list))\n",
    "print(x)"
   ]
  },
  {
   "cell_type": "code",
   "execution_count": 20,
   "id": "c097f35d",
   "metadata": {},
   "outputs": [
    {
     "name": "stdout",
     "output_type": "stream",
     "text": [
      "[17, 27, 37, 47, 57]\n"
     ]
    }
   ],
   "source": [
    "number_list_1 = [10, 20, 30, 40, 50]\n",
    "number_list_2 = [7, 7, 7, 7, 7]\n",
    "x = list(map(lambda x, y: x + y, number_list_1, number_list_2))\n",
    "print(x)"
   ]
  },
  {
   "cell_type": "markdown",
   "id": "b51a02a1",
   "metadata": {},
   "source": [
    "### <span style=\"color:red\"> LIST COMPREHENSION </span> - jest to elegancki sposób definiowania i tworzenia listy. List Comprehension pozwala nam na tworzenie listy przy użyciu pętli for z mniejszą ilością kodu. To co normalnie zajmuje 3-4 linie kodu, może być skompresowane do jednej linii."
   ]
  },
  {
   "cell_type": "code",
   "execution_count": 24,
   "id": "49524456",
   "metadata": {},
   "outputs": [
    {
     "name": "stdout",
     "output_type": "stream",
     "text": [
      "[0, 2, 4, 6, 8, 10]\n"
     ]
    }
   ],
   "source": [
    "# List Comprehension\n",
    "list_comprehension = [i for i in range(11) if i % 2 == 0]\n",
    "  \n",
    "print(list_comprehension)"
   ]
  },
  {
   "cell_type": "markdown",
   "id": "c756949e",
   "metadata": {},
   "source": [
    "### <span style=\"color:red\"> GENERATOR EXPRESSION </span> - wrażenia generatora są nieco podobne do list comprehensions, ale te pierwsze nie konstruują obiektu listy. Zamiast tworzyć listę i trzymać całą sekwencję w pamięci, generator generuje każdy następny element na żądanie."
   ]
  },
  {
   "cell_type": "code",
   "execution_count": 25,
   "id": "98f50e3f",
   "metadata": {},
   "outputs": [
    {
     "name": "stdout",
     "output_type": "stream",
     "text": [
      "<generator object <genexpr> at 0x000001CBBFD23820>\n"
     ]
    }
   ],
   "source": [
    "# Generator Expression\n",
    "generator_expression = (i for i in range(11) if i % 2 == 0)\n",
    "  \n",
    "print(generator_expression)"
   ]
  },
  {
   "cell_type": "markdown",
   "id": "78599ba7",
   "metadata": {},
   "source": [
    "### W powyższym przykładzie, jeśli chcemy wypisać dane wyjściowe dla wyrażeń generatora, możemy po prostu iterować po obiekcie generatora."
   ]
  },
  {
   "cell_type": "code",
   "execution_count": 26,
   "id": "bf43e132",
   "metadata": {},
   "outputs": [
    {
     "name": "stdout",
     "output_type": "stream",
     "text": [
      "0 2 4 6 8 10 "
     ]
    }
   ],
   "source": [
    "for i in generator_expression:\n",
    "    print(i, end=\" \")"
   ]
  },
  {
   "cell_type": "markdown",
   "id": "6377085e",
   "metadata": {},
   "source": [
    "Generator daje jeden element na raz i generuje element tylko wtedy, gdy jest na niego zapotrzebowanie. Podczas gdy w przypadku rozumienia listy Python rezerwuje pamięć dla całej listy. Można więc powiedzieć, że wyrażenia generatora są bardziej wydajne pamięciowo niż listy.\n",
    "Możemy to zobaczyć w poniższym przykładzie."
   ]
  },
  {
   "cell_type": "code",
   "execution_count": 28,
   "id": "3de1c167",
   "metadata": {},
   "outputs": [
    {
     "name": "stdout",
     "output_type": "stream",
     "text": [
      "x =  87616\n",
      "y =  112\n"
     ]
    }
   ],
   "source": [
    "# import getsizeof from sys module\n",
    "from sys import getsizeof\n",
    "  \n",
    "comp = [i for i in range(10000)]\n",
    "gen = (i for i in range(10000))\n",
    "  \n",
    "#gives size for list comprehension\n",
    "x = getsizeof(comp) \n",
    "print(\"x = \", x)\n",
    "  \n",
    "#gives size for generator expression\n",
    "y = getsizeof(gen) \n",
    "print(\"y = \", y)"
   ]
  },
  {
   "cell_type": "markdown",
   "id": "1c4d7e79",
   "metadata": {},
   "source": [
    "### GENERATOR EXPRESSION MA NAWIASY OKRĄGŁE ( ) \n",
    "### vs \n",
    "### LIST COMPREHENSION MA NAWIASY KWADRATOWE [ ]"
   ]
  },
  {
   "cell_type": "markdown",
   "id": "d8d399ee",
   "metadata": {},
   "source": [
    "##### zad. zamień każde słowo na listę, dzieląc je na trójki z dokładnością do ostatniego elemetnu. \n",
    "##### przykład słowo --> konstantynopolitańczykowianeczka\n",
    "##### na --> ['kon', 'sta', 'nty', 'nop', 'oli', 'tań', 'czy', 'kow', 'ian', 'ecz', 'ka'] "
   ]
  },
  {
   "cell_type": "code",
   "execution_count": 32,
   "id": "0a14bc55",
   "metadata": {},
   "outputs": [
    {
     "data": {
      "text/plain": [
       "['kon', 'sta', 'nty', 'nop', 'oli', 'tań', 'czy', 'kow', 'ian', 'ecz', 'ka']"
      ]
     },
     "execution_count": 32,
     "metadata": {},
     "output_type": "execute_result"
    }
   ],
   "source": [
    "word = 'konstantynopolitańczykowianeczka'\n",
    "result = [\n",
    "    word[i:i+3] for i in range(0, len(word), 3)\n",
    "]\n",
    "\n",
    "result"
   ]
  },
  {
   "cell_type": "markdown",
   "id": "dc648059",
   "metadata": {},
   "source": [
    "### <span style=\"color:red\"> Funkcje wyższego rzędu filter </span> - funkcja filter() tworzy nową listę elementów na podstawie wejściowej listy elementów, wybierając tylko te wartości, dla których funkcja testując zwróci prawdę (True)."
   ]
  },
  {
   "cell_type": "code",
   "execution_count": 15,
   "id": "f6ebd8a1",
   "metadata": {},
   "outputs": [],
   "source": [
    "number_list_f1 = [i for i in range(10)]\n",
    "\n",
    "def is_odd(n):\n",
    "    if n%2 == 0:\n",
    "        return True\n",
    "    \n",
    "x = filter(is_odd, number_list_f1)"
   ]
  },
  {
   "cell_type": "code",
   "execution_count": 16,
   "id": "0c6600b2",
   "metadata": {},
   "outputs": [
    {
     "name": "stdout",
     "output_type": "stream",
     "text": [
      "<filter object at 0x0000017EAF0E49A0>\n",
      "<class 'filter'>\n"
     ]
    }
   ],
   "source": [
    "print(x)\n",
    "print(type(x))\n",
    "# ponownie mamy zwrócony iterator"
   ]
  },
  {
   "cell_type": "code",
   "execution_count": 17,
   "id": "b3efc676",
   "metadata": {},
   "outputs": [
    {
     "name": "stdout",
     "output_type": "stream",
     "text": [
      "0\n",
      "2\n",
      "4\n",
      "6\n",
      "8\n"
     ]
    }
   ],
   "source": [
    "for i in x:\n",
    "    print(i)\n",
    "# jeżeli wykonanmy ponownie nie otrzymamy wyniku ponieważ iterator wyczerpał elementy\n",
    "for i in x:\n",
    "    print(i)"
   ]
  },
  {
   "cell_type": "code",
   "execution_count": 21,
   "id": "4fee6238",
   "metadata": {},
   "outputs": [
    {
     "name": "stdout",
     "output_type": "stream",
     "text": [
      "[0, 2, 4, 6, 8]\n"
     ]
    }
   ],
   "source": [
    "# sposób 2\n",
    "y = [i for i in number_list_f1 if is_odd(i)]\n",
    "print(y)"
   ]
  },
  {
   "cell_type": "code",
   "execution_count": 23,
   "id": "3bf79203",
   "metadata": {},
   "outputs": [
    {
     "name": "stdout",
     "output_type": "stream",
     "text": [
      "[0, 'nieparzysta', 2, 'nieparzysta', 4, 'nieparzysta', 6, 'nieparzysta', 8, 'nieparzysta']\n"
     ]
    }
   ],
   "source": [
    "# sposób 3 \n",
    "z = [i if is_odd(i) else \"nieparzysta\" for i in number_list_f1]\n",
    "print(z)"
   ]
  },
  {
   "cell_type": "code",
   "execution_count": 26,
   "id": "3a6e5762",
   "metadata": {},
   "outputs": [
    {
     "name": "stdout",
     "output_type": "stream",
     "text": [
      "[11, 13, 17, 19, 23, 25, 29, 31, 35, 37, 41, 43, 47, 49, 53, 55, 59, 61, 65, 67, 71, 73, 77, 79, 83, 85, 89, 91, 95, 97]\n"
     ]
    }
   ],
   "source": [
    "# zadanie wypisz liczby które są > 10, są nieparzyste, nie dzielą się przez 3\n",
    "number_task1 = [i for i in range(100)]\n",
    "result = [i for i in number_task1 if i > 10 and i%2 != 0 and i%3 != 0]\n",
    "print(result)"
   ]
  },
  {
   "cell_type": "markdown",
   "id": "de0b6430",
   "metadata": {},
   "source": [
    "### <span style=\"color:red\"> Funkcje wyższego rzędu reduce </span> - funkcja ta jest bardzo użyteczne przy przeprowadzaniu rożnego rodzaju obliczeń na elementach listy (tablicy) i zwracaniu obliczonego wyniku. Stosuje ona obliczenia kroczące (ang. rolling computation) dla kolejnych par wartości elementów listy."
   ]
  },
  {
   "cell_type": "code",
   "execution_count": 76,
   "id": "74171227",
   "metadata": {},
   "outputs": [
    {
     "name": "stdout",
     "output_type": "stream",
     "text": [
      "1 + 0 = 1\n",
      "1 + 1 = 2\n",
      "2 + 2 = 4\n",
      "4 + 3 = 7\n",
      "7 + 4 = 11\n",
      "11 + 5 = 16\n",
      "16 + 6 = 22\n",
      "22 + 7 = 29\n",
      "29 + 8 = 37\n",
      "37 + 9 = 46\n"
     ]
    },
    {
     "data": {
      "text/plain": [
       "46"
      ]
     },
     "execution_count": 76,
     "metadata": {},
     "output_type": "execute_result"
    }
   ],
   "source": [
    "from functools import reduce\n",
    "\n",
    "number_list_reduce1 = [i for i in range(10)]\n",
    "\n",
    "def add_ab(a, b):\n",
    "    print(f\"{a} + {b} = {a+b}\")\n",
    "    return a+b\n",
    "\n",
    "reduce(add_ab, number_list_reduce1, 1) \n",
    "# 1 opcjonalna jest to wartość, którą ma przyjmować akumulator na samym początku, jeżeli nie podamy argumentu funkcji\n",
    "# domyślnie akumulator na samym początku przyjmie wartość pierwszego elementu np. z listy"
   ]
  },
  {
   "cell_type": "code",
   "execution_count": 94,
   "id": "e750adb3",
   "metadata": {},
   "outputs": [
    {
     "name": "stdout",
     "output_type": "stream",
     "text": [
      "['Przykładowe', 'zdanie,', 'które', 'zostanie', 'pogrupowane', 'w', 'zależności', 'od', 'długości', 'słów.', 'Wynik', 'zostanie', 'zapisany', 'do', 'słownika,', 'w', 'którym', 'kluczem', 'są', 'długości', 'słów,', 'a', 'wartoścami', 'słowa.']\n"
     ]
    }
   ],
   "source": [
    "def group_words_by_len(words):\n",
    "    \n",
    "    def group(acc, word):\n",
    "        word_len = len(word)\n",
    "        if word_len in acc:\n",
    "            acc[word_len].append(word)\n",
    "        else:\n",
    "            acc[word_len] = [word]\n",
    "        return acc\n",
    "    \n",
    "    return reduce(group, words, {})\n",
    "\n",
    "list_of_words = \"Przykładowe zdanie, które zostanie pogrupowane w zależności od długości słów. Wynik zostanie zapisany do słownika, w którym kluczem są długości słów, a wartoścami słowa.\".split(\" \")\n",
    "list_of_words = [w.strip() for w in list_of_words if len(w.strip()) > 0]\n",
    "print(list_of_words)"
   ]
  },
  {
   "cell_type": "code",
   "execution_count": 95,
   "id": "feaa4ae6",
   "metadata": {},
   "outputs": [
    {
     "data": {
      "text/plain": [
       "{11: ['Przykładowe', 'pogrupowane'],\n",
       " 7: ['zdanie,', 'kluczem'],\n",
       " 5: ['które', 'słów.', 'Wynik', 'słów,'],\n",
       " 8: ['zostanie', 'długości', 'zostanie', 'zapisany', 'długości'],\n",
       " 1: ['w', 'w', 'a'],\n",
       " 10: ['zależności', 'wartoścami'],\n",
       " 2: ['od', 'do', 'są'],\n",
       " 9: ['słownika,'],\n",
       " 6: ['którym', 'słowa.']}"
      ]
     },
     "execution_count": 95,
     "metadata": {},
     "output_type": "execute_result"
    }
   ],
   "source": [
    "group_words_by_len(list_of_words)\n"
   ]
  },
  {
   "cell_type": "code",
   "execution_count": null,
   "id": "74b1e1d2",
   "metadata": {},
   "outputs": [],
   "source": []
  },
  {
   "cell_type": "code",
   "execution_count": null,
   "id": "fe277958",
   "metadata": {},
   "outputs": [],
   "source": []
  },
  {
   "cell_type": "code",
   "execution_count": null,
   "id": "c1e5d29a",
   "metadata": {},
   "outputs": [],
   "source": []
  }
 ],
 "metadata": {
  "kernelspec": {
   "display_name": "Python 3",
   "language": "python",
   "name": "python3"
  },
  "language_info": {
   "codemirror_mode": {
    "name": "ipython",
    "version": 3
   },
   "file_extension": ".py",
   "mimetype": "text/x-python",
   "name": "python",
   "nbconvert_exporter": "python",
   "pygments_lexer": "ipython3",
   "version": "3.8.8"
  }
 },
 "nbformat": 4,
 "nbformat_minor": 5
}
