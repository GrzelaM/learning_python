{
 "cells": [
  {
   "cell_type": "markdown",
   "id": "f89afde8",
   "metadata": {},
   "source": [
    "# Luźne notatki, pojęcia, zadania, łamigłówki"
   ]
  },
  {
   "cell_type": "markdown",
   "id": "44a49cb5",
   "metadata": {},
   "source": [
    "### <span style=\"color:red\"> Funkcja wyższego rzędu </span> (higher-order function) - przyjmuje jako argumenty lub zwraca w wyniku inne funkcje"
   ]
  },
  {
   "cell_type": "code",
   "execution_count": 3,
   "id": "a28082fe",
   "metadata": {},
   "outputs": [
    {
     "name": "stdout",
     "output_type": "stream",
     "text": [
      "15\n",
      "20\n"
     ]
    }
   ],
   "source": [
    "# jako argument \n",
    "def math_operation(operation, num1, num2):\n",
    "    return operation(num1, num2)\n",
    "\n",
    "def sum_n(num1, num2):\n",
    "    return num1 + num2 \n",
    "\n",
    "def multi_n(num1, num2):\n",
    "    return num1 * num2\n",
    "\n",
    "print(math_operation(sum_n, 5, 10))\n",
    "print(math_operation(multi_n, 2, 10))"
   ]
  },
  {
   "cell_type": "code",
   "execution_count": 23,
   "id": "dd6401e6",
   "metadata": {},
   "outputs": [
    {
     "data": {
      "text/plain": [
       "5.0"
      ]
     },
     "execution_count": 23,
     "metadata": {},
     "output_type": "execute_result"
    }
   ],
   "source": [
    "# zwracanie funkcji\n",
    "def division_num(diviBy):\n",
    "    def result(num_base):\n",
    "        if(diviBy != 0):\n",
    "            return num_base / diviBy\n",
    "        else:\n",
    "            return \"ZeroDivisionError\"\n",
    "    return result \n",
    "    \n",
    "division_by_ten = division_num(10)\n",
    "division_by_ten(50)"
   ]
  },
  {
   "cell_type": "code",
   "execution_count": 1,
   "id": "34804761",
   "metadata": {},
   "outputs": [
    {
     "name": "stdout",
     "output_type": "stream",
     "text": [
      "16\n",
      "81\n",
      "256\n"
     ]
    }
   ],
   "source": [
    "def power_of(base):\n",
    "    def power(exponent):\n",
    "        return base ** exponent\n",
    "    return power\n",
    "\n",
    "power_of_two = power_of(2)\n",
    "power_of_three = power_of(3)\n",
    "power_of_four = power_of(4)\n",
    " \n",
    "print(power_of_two(4))\n",
    "print(power_of_three(4))\n",
    "print(power_of_four(4))"
   ]
  },
  {
   "cell_type": "markdown",
   "id": "3c88e522",
   "metadata": {},
   "source": [
    "#### Zagnieżdżona funkcja <span style=\"color:blue\">power</span> nie posiada parametru base zdefiniowanego przez funkcję nadrzędną. Jednak w jakiś sposób ma do tego argumentu dostęp. Funkcja <span style=\"color:blue\">power</span> pamięta wartość argumentu przekazanego do funkcji nadrzędnej. Odpowiada za to tzw. <span style=\"color:blue\">domknięcie (ang. lexical closures)</span>. W chwili gdy funkcje <span style=\"color:blue\">power_of…</span> były deklarowane, domknięcie zapamietało <span style=\"color:blue\">środowisko leksykalne</span> w jakim były one tworzone."
   ]
  },
  {
   "cell_type": "markdown",
   "id": "8b4a8fe0",
   "metadata": {},
   "source": [
    "### <span style=\"color:red\"> Callable </span>- obiekt, który zachowuje się jak funkcja. Obiekty funkcyjne często nazywa się funktorami. \n",
    "#### W języku Python wszystkie funkcje są obiektami, ale na odwrót już nie. Jednak Python oferuje nam możliwość traktowania obiektów jak funkcję. Aby instancja klasy stała się takim obiektem wystarczy stworzyć metodę <span style=\"color:red\"> \\_\\_call\\_\\_ </span>."
   ]
  },
  {
   "cell_type": "code",
   "execution_count": 4,
   "id": "0e8a2a02",
   "metadata": {},
   "outputs": [
    {
     "name": "stdout",
     "output_type": "stream",
     "text": [
      "20\n",
      "250\n"
     ]
    }
   ],
   "source": [
    "class Multiplication():\n",
    "    \n",
    "    def __init__(self, base_number):\n",
    "        self.base_number = base_number\n",
    "    \n",
    "    def __call__(self, multiBy):\n",
    "        return self.base_number * multiBy\n",
    "    \n",
    "object_1 = Multiplication(2)\n",
    "object_2 = Multiplication(5)\n",
    "\n",
    "print(object_1(10))\n",
    "print(object_2(50))"
   ]
  },
  {
   "cell_type": "markdown",
   "id": "01ec9106",
   "metadata": {},
   "source": [
    "### <span style=\"color:red\"> Lambda (funkcje anonimowe) </span>- jest jednolinijkową, anonimową funkcją. Jest to funkcja która nie ma nazwy. Poprzez użycie słowa kluczowego 'lambda’ informujemy Python, że właśnie taką anonimową funkcję chcemy utworzyć."
   ]
  },
  {
   "cell_type": "code",
   "execution_count": 11,
   "id": "b4410020",
   "metadata": {},
   "outputs": [
    {
     "name": "stdout",
     "output_type": "stream",
     "text": [
      "Sposób 1:\n",
      "30\n",
      "Sposób 2:\n",
      "15\n"
     ]
    }
   ],
   "source": [
    "# sposób 1 możemy przypisać lambdę do zmiennej, a następnie ją wykonać\n",
    "add_ten = lambda x: x + 10\n",
    "print(\"Sposób 1:\")\n",
    "print(add_ten(20))\n",
    "\n",
    "# sposób 2 możemy wykonać lambdę odrazu\n",
    "print(\"Sposób 2:\")\n",
    "print((lambda x,y: x + yn)(5,10))"
   ]
  },
  {
   "cell_type": "markdown",
   "id": "0733c760",
   "metadata": {},
   "source": [
    "#### funkcja anonimowa lambda, może być funkcją wyższego rzędu"
   ]
  },
  {
   "cell_type": "code",
   "execution_count": 13,
   "id": "bef6af9e",
   "metadata": {},
   "outputs": [
    {
     "name": "stdout",
     "output_type": "stream",
     "text": [
      "18\n"
     ]
    }
   ],
   "source": [
    "higher_order_lambda = lambda f,x: f(x)\n",
    "print(higher_order_lambda(add_ten, 8))"
   ]
  },
  {
   "cell_type": "markdown",
   "id": "9734733e",
   "metadata": {},
   "source": [
    "### <span style=\"color:red\"> Funkcje częsciowo aplikowane </span> - są to funkcje do których część parametrów została już zaaplikowana"
   ]
  },
  {
   "cell_type": "code",
   "execution_count": 27,
   "id": "ae852883",
   "metadata": {},
   "outputs": [
    {
     "name": "stdout",
     "output_type": "stream",
     "text": [
      "60\n",
      "60\n"
     ]
    }
   ],
   "source": [
    "from functools import partial\n",
    "\n",
    "fun_1 = lambda x,y,z: x + y + z\n",
    "\n",
    "partially_applied_function = partial(\n",
    "    fun_1, x = 10\n",
    ")\n",
    "\n",
    "# musimy jawnie przypisać wartości do y i z, gdyby podać wartości w ten spsób --> partially_applied_function(20, 30)\n",
    "# dostalibyśmy błąd ze względu, że parametr x jest już zainicjalizowany \n",
    "print(partially_applied_function(y=20, z=30))\n",
    "\n",
    "# ewentualnie, można zmienić kolejność parametrów funkcji, wtedy nie nadamy wartości już zainicjalizowanej zmiennej x\n",
    "\n",
    "fun_2 = lambda y,z,x: y + z + x \n",
    "\n",
    "partially_applied_function_2 = partial(\n",
    "    fun_2, x = 10\n",
    ")\n",
    "\n",
    "print(partially_applied_function_2(20,30))"
   ]
  },
  {
   "cell_type": "code",
   "execution_count": null,
   "id": "bfbb6632",
   "metadata": {},
   "outputs": [],
   "source": []
  },
  {
   "cell_type": "code",
   "execution_count": null,
   "id": "dfc3f9fc",
   "metadata": {},
   "outputs": [],
   "source": []
  },
  {
   "cell_type": "code",
   "execution_count": null,
   "id": "2f52c078",
   "metadata": {},
   "outputs": [],
   "source": []
  }
 ],
 "metadata": {
  "kernelspec": {
   "display_name": "Python 3",
   "language": "python",
   "name": "python3"
  },
  "language_info": {
   "codemirror_mode": {
    "name": "ipython",
    "version": 3
   },
   "file_extension": ".py",
   "mimetype": "text/x-python",
   "name": "python",
   "nbconvert_exporter": "python",
   "pygments_lexer": "ipython3",
   "version": "3.8.8"
  }
 },
 "nbformat": 4,
 "nbformat_minor": 5
}
