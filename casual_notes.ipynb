{
 "cells": [
  {
   "cell_type": "markdown",
   "id": "f89afde8",
   "metadata": {},
   "source": [
    "# Luźne notatki, pojęcia, zadania, łamigłówki"
   ]
  },
  {
   "cell_type": "markdown",
   "id": "44a49cb5",
   "metadata": {},
   "source": [
    "### <span style=\"color:red\"> Funkcja wyższego rzędu </span> (higher-order function) - przyjmuje jako argumenty lub zwraca w wyniku inne funkcje"
   ]
  },
  {
   "cell_type": "code",
   "execution_count": 3,
   "id": "a28082fe",
   "metadata": {},
   "outputs": [
    {
     "name": "stdout",
     "output_type": "stream",
     "text": [
      "15\n",
      "20\n"
     ]
    }
   ],
   "source": [
    "# jako argument \n",
    "def math_operation(operation, num1, num2):\n",
    "    return operation(num1, num2)\n",
    "\n",
    "def sum_n(num1, num2):\n",
    "    return num1 + num2 \n",
    "\n",
    "def multi_n(num1, num2):\n",
    "    return num1 * num2\n",
    "\n",
    "print(math_operation(sum_n, 5, 10))\n",
    "print(math_operation(multi_n, 2, 10))"
   ]
  },
  {
   "cell_type": "code",
   "execution_count": 23,
   "id": "dd6401e6",
   "metadata": {},
   "outputs": [
    {
     "data": {
      "text/plain": [
       "5.0"
      ]
     },
     "execution_count": 23,
     "metadata": {},
     "output_type": "execute_result"
    }
   ],
   "source": [
    "# zwracanie funkcji\n",
    "def division_num(diviBy):\n",
    "    def result(num_base):\n",
    "        if(diviBy != 0):\n",
    "            return num_base / diviBy\n",
    "        else:\n",
    "            return \"ZeroDivisionError\"\n",
    "    return result \n",
    "    \n",
    "division_by_ten = division_num(10)\n",
    "division_by_ten(50)"
   ]
  },
  {
   "cell_type": "code",
   "execution_count": null,
   "id": "ad1d582d",
   "metadata": {},
   "outputs": [],
   "source": []
  }
 ],
 "metadata": {
  "kernelspec": {
   "display_name": "Python 3",
   "language": "python",
   "name": "python3"
  },
  "language_info": {
   "codemirror_mode": {
    "name": "ipython",
    "version": 3
   },
   "file_extension": ".py",
   "mimetype": "text/x-python",
   "name": "python",
   "nbconvert_exporter": "python",
   "pygments_lexer": "ipython3",
   "version": "3.8.8"
  }
 },
 "nbformat": 4,
 "nbformat_minor": 5
}
